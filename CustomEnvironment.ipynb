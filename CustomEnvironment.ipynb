{
 "cells": [
  {
   "cell_type": "markdown",
   "metadata": {},
   "source": [
    "## 1. Import Dependencies"
   ]
  },
  {
   "cell_type": "code",
   "execution_count": null,
   "metadata": {},
   "outputs": [],
   "source": [
    "# IMPORT GYM STUFF\n",
    "import gymnasium as gym\n",
    "from gymnasium import Env\n",
    "from gymnasium.spaces import Discrete, Box, Dict, Tuple, MultiBinary, MultiDiscrete\n",
    "\n",
    "# IMPORT HELPERS\n",
    "import numpy as np\n",
    "import random\n",
    "import os\n",
    "\n",
    "# IMPORT STABLE BASELINES STUFF\n",
    "from stable_baselines3 import ppo\n",
    "from stable_baselines3.common.vec_env import DummyVecEnv\n",
    "from stable_baselines3.common.evaluation import evaluate_policy"
   ]
  },
  {
   "cell_type": "markdown",
   "metadata": {},
   "source": [
    "## 2. Types of Spaces"
   ]
  },
  {
   "cell_type": "code",
   "execution_count": null,
   "metadata": {},
   "outputs": [],
   "source": [
    "Discrete(3)"
   ]
  },
  {
   "cell_type": "code",
   "execution_count": null,
   "metadata": {},
   "outputs": [],
   "source": [
    "Discrete(3).sample()"
   ]
  },
  {
   "cell_type": "code",
   "execution_count": null,
   "metadata": {},
   "outputs": [],
   "source": [
    "Box(0, 1, shape=(3, 3))"
   ]
  },
  {
   "cell_type": "code",
   "execution_count": null,
   "metadata": {},
   "outputs": [],
   "source": [
    "Box(0, 1, shape=(3, 3)).sample()"
   ]
  },
  {
   "cell_type": "code",
   "execution_count": null,
   "metadata": {},
   "outputs": [],
   "source": [
    "# stable baselines doesn't support tuple\n",
    "# Tuple and Dict act like wrappers to wrape several types of spaces\n",
    "Tuple((Discrete(3), Box(0, 1, shape=(3, ))))"
   ]
  },
  {
   "cell_type": "code",
   "execution_count": null,
   "metadata": {},
   "outputs": [],
   "source": [
    "Tuple((Discrete(3), Box(0, 1, shape=(3, )))).sample()"
   ]
  },
  {
   "cell_type": "code",
   "execution_count": null,
   "metadata": {},
   "outputs": [],
   "source": [
    "Dict({'height': Discrete(2), 'speed': Box(0, 100, shape=(1,))})"
   ]
  },
  {
   "cell_type": "code",
   "execution_count": null,
   "metadata": {},
   "outputs": [],
   "source": [
    "Dict({'height': Discrete(2), 'speed': Box(0, 100, shape=(1,)), 'color':MultiBinary(4)}).sample()"
   ]
  },
  {
   "cell_type": "code",
   "execution_count": null,
   "metadata": {},
   "outputs": [],
   "source": [
    "MultiBinary(4)"
   ]
  },
  {
   "cell_type": "code",
   "execution_count": null,
   "metadata": {},
   "outputs": [],
   "source": [
    "MultiBinary(4).sample()"
   ]
  },
  {
   "cell_type": "code",
   "execution_count": null,
   "metadata": {},
   "outputs": [],
   "source": [
    "MultiDiscrete([5, 2, 2])"
   ]
  },
  {
   "cell_type": "code",
   "execution_count": null,
   "metadata": {},
   "outputs": [],
   "source": [
    "MultiDiscrete([5, 2, 2]).sample()"
   ]
  },
  {
   "cell_type": "markdown",
   "metadata": {},
   "source": [
    "## 3. Building an Environment\n",
    "- Build an agent to give us the best shower possible \n",
    "- Randomely temperature\n",
    "- 37 and 39 degree range is ideal\n",
    "- Train an agent to automatically respond to the changes in temperature and get it within the ideal temperature"
   ]
  },
  {
   "cell_type": "code",
   "execution_count": null,
   "metadata": {},
   "outputs": [],
   "source": [
    "class ShowerEnv(Env):\n",
    "    def __init__(self):\n",
    "        self.action_space = Discrete(3)  # actions we can take (down, stay, up)\n",
    "        self.observation_space = Box(low=0, high=100, shape=(1,))  # temperature array\n",
    "        self.state = 38 + random.randint(-3, 3)  # set start temperature\n",
    "        self.shower_length = 60  # set shower (aka episode) length\n",
    "\n",
    "    def step(self, action):\n",
    "        # apply temp adj, to apply the impact of our action to state\n",
    "        # apply action:\n",
    "        # 0 -1 = -1 temperature\n",
    "        # 1 -1 = 0\n",
    "        # 2 -1 = 1 temperature\n",
    "        self.state += action-1\n",
    "\n",
    "        # decrease shower time by 1 second\n",
    "        self.shower_length -= 1\n",
    "        \n",
    "        # calculate reward\n",
    "        if self.state >= 37 and self.state <= 39:\n",
    "            reward = 1\n",
    "        else:\n",
    "            reward = -1\n",
    "\n",
    "        # check whether the shower is done\n",
    "        if self.shower_length <= 0:\n",
    "            done = True\n",
    "        else:\n",
    "            done = False\n",
    "        \n",
    "        # apply temperature noise\n",
    "        # self.state += random.randint(-1, 1)\n",
    "        # set placeholder for info\n",
    "        info = {}\n",
    "\n",
    "        # return step information: temperature, reward for the particular episode, whether it's done and info\n",
    "        return self.state, reward, done, info\n",
    "\n",
    "    def render(self):\n",
    "        # implement viz\n",
    "        pass\n",
    "\n",
    "    def reset(self):\n",
    "        pass"
   ]
  },
  {
   "cell_type": "code",
   "execution_count": null,
   "metadata": {},
   "outputs": [],
   "source": []
  },
  {
   "cell_type": "code",
   "execution_count": null,
   "metadata": {},
   "outputs": [],
   "source": []
  },
  {
   "cell_type": "code",
   "execution_count": null,
   "metadata": {},
   "outputs": [],
   "source": []
  },
  {
   "cell_type": "code",
   "execution_count": null,
   "metadata": {},
   "outputs": [],
   "source": []
  },
  {
   "cell_type": "code",
   "execution_count": null,
   "metadata": {},
   "outputs": [],
   "source": []
  },
  {
   "cell_type": "code",
   "execution_count": null,
   "metadata": {},
   "outputs": [],
   "source": []
  }
 ],
 "metadata": {
  "language_info": {
   "name": "python"
  }
 },
 "nbformat": 4,
 "nbformat_minor": 2
}
